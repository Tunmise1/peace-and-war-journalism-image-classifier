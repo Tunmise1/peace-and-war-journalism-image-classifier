{
 "cells": [
  {
   "cell_type": "code",
   "execution_count": 1,
   "source": [
    "import numpy as np\n",
    "from keras.models import Sequential, Model\n",
    "from keras.layers import Dense, Dropout, Flatten\n",
    "from keras.layers import Conv2D, Activation, MaxPooling2D\n",
    "from keras.layers import Concatenate\n",
    "from keras import Input\n",
    "from keras.callbacks import ModelCheckpoint\n",
    "from sklearn.model_selection import train_test_split"
   ],
   "outputs": [],
   "metadata": {}
  },
  {
   "cell_type": "code",
   "execution_count": 2,
   "source": [
    "data = np.load('data.npy')\n",
    "target = np.load('target.npy')\n"
   ],
   "outputs": [],
   "metadata": {}
  },
  {
   "cell_type": "code",
   "execution_count": 3,
   "source": [
    "input_shape = data.shape[1:]\n",
    "input_X = Input(shape = input_shape)\n",
    "convs = []\n",
    "parrallel_kernels = [3, 5, 7]\n",
    "\n",
    "for k in range(len(parrallel_kernels)):\n",
    "    conv = Conv2D(128, parrallel_kernels[k], padding = 'same', activation = 'relu', input_shape = input_shape, strides = 1)(input_X)\n",
    "    convs.append(conv)\n",
    "\n",
    "output_X = Concatenate()(convs)\n",
    "conv_model = Model(inputs = input_X, outputs = output_X)\n",
    "\n",
    "model = Sequential()\n",
    "model.add(conv_model)\n",
    "\n",
    "model.add(Conv2D(64,(3, 3)))\n",
    "model.add(Activation('relu'))\n",
    "model.add(MaxPooling2D(pool_size = (2, 2)))\n",
    "\n",
    "model.add(Conv2D(32,(3, 3)))\n",
    "model.add(Activation('relu'))\n",
    "model.add(MaxPooling2D(pool_size = (2, 2)))\n",
    "\n",
    "model.add(Flatten())\n",
    "model.add(Dropout(0.5))\n",
    "model.add(Dense(128, activation = 'relu'))\n",
    "model.add(Dropout(0.5))\n",
    "model.add(Dense(64, activation = 'relu'))\n",
    "model.add(Dropout(0.5))\n",
    "model.add(Dense(2, input_dim = 128, activation = 'softmax'))\n",
    "model.compile(loss = 'categorical_crossentropy', optimizer = 'adam', metrics = ['accuracy'])\n",
    "\n",
    "model.summary()\n"
   ],
   "outputs": [
    {
     "output_type": "stream",
     "name": "stdout",
     "text": [
      "Model: \"sequential\"\n",
      "_________________________________________________________________\n",
      "Layer (type)                 Output Shape              Param #   \n",
      "=================================================================\n",
      "model (Functional)           (None, 150, 150, 384)     11008     \n",
      "_________________________________________________________________\n",
      "conv2d_3 (Conv2D)            (None, 148, 148, 64)      221248    \n",
      "_________________________________________________________________\n",
      "activation (Activation)      (None, 148, 148, 64)      0         \n",
      "_________________________________________________________________\n",
      "max_pooling2d (MaxPooling2D) (None, 74, 74, 64)        0         \n",
      "_________________________________________________________________\n",
      "conv2d_4 (Conv2D)            (None, 72, 72, 32)        18464     \n",
      "_________________________________________________________________\n",
      "activation_1 (Activation)    (None, 72, 72, 32)        0         \n",
      "_________________________________________________________________\n",
      "max_pooling2d_1 (MaxPooling2 (None, 36, 36, 32)        0         \n",
      "_________________________________________________________________\n",
      "flatten (Flatten)            (None, 41472)             0         \n",
      "_________________________________________________________________\n",
      "dropout (Dropout)            (None, 41472)             0         \n",
      "_________________________________________________________________\n",
      "dense (Dense)                (None, 128)               5308544   \n",
      "_________________________________________________________________\n",
      "dropout_1 (Dropout)          (None, 128)               0         \n",
      "_________________________________________________________________\n",
      "dense_1 (Dense)              (None, 64)                8256      \n",
      "_________________________________________________________________\n",
      "dropout_2 (Dropout)          (None, 64)                0         \n",
      "_________________________________________________________________\n",
      "dense_2 (Dense)              (None, 2)                 130       \n",
      "=================================================================\n",
      "Total params: 5,567,650\n",
      "Trainable params: 5,567,650\n",
      "Non-trainable params: 0\n",
      "_________________________________________________________________\n"
     ]
    },
    {
     "output_type": "stream",
     "name": "stderr",
     "text": [
      "2021-07-09 00:20:34.783453: I tensorflow/core/platform/cpu_feature_guard.cc:142] This TensorFlow binary is optimized with oneAPI Deep Neural Network Library (oneDNN) to use the following CPU instructions in performance-critical operations:  AVX2 FMA\n",
      "To enable them in other operations, rebuild TensorFlow with the appropriate compiler flags.\n"
     ]
    }
   ],
   "metadata": {}
  },
  {
   "cell_type": "code",
   "execution_count": 4,
   "source": [
    "train_data, test_data, train_target, test_target = train_test_split(data, target, test_size = 0.1) "
   ],
   "outputs": [],
   "metadata": {}
  },
  {
   "cell_type": "code",
   "execution_count": 5,
   "source": [
    "checkpoint = ModelCheckpoint('model-{epoch:03d}.model', monitor = 'val_loss', verbose = 0, save_best_only= True, mode = 'auto')\n",
    "history = model.fit(train_data, train_target, epochs = 20, callbacks = [checkpoint], validation_split = 0.1)"
   ],
   "outputs": [
    {
     "output_type": "stream",
     "name": "stderr",
     "text": [
      "2021-07-09 00:20:43.870629: I tensorflow/compiler/mlir/mlir_graph_optimization_pass.cc:176] None of the MLIR Optimization Passes are enabled (registered 2)\n"
     ]
    },
    {
     "output_type": "stream",
     "name": "stdout",
     "text": [
      "Epoch 1/20\n",
      "5/5 [==============================] - 185s 30s/step - loss: 0.7382 - accuracy: 0.5736 - val_loss: 0.6228 - val_accuracy: 0.9333\n"
     ]
    },
    {
     "output_type": "stream",
     "name": "stderr",
     "text": [
      "2021-07-09 00:23:50.626106: W tensorflow/python/util/util.cc:348] Sets are not currently considered sequences, but this may change in the future, so consider avoiding using them.\n"
     ]
    },
    {
     "output_type": "stream",
     "name": "stdout",
     "text": [
      "INFO:tensorflow:Assets written to: model-001.model/assets\n",
      "Epoch 2/20\n",
      "5/5 [==============================] - 163s 27s/step - loss: 0.6499 - accuracy: 0.7001 - val_loss: 0.2207 - val_accuracy: 0.9333\n",
      "INFO:tensorflow:Assets written to: model-002.model/assets\n",
      "Epoch 3/20\n",
      "5/5 [==============================] - 134s 23s/step - loss: 0.9137 - accuracy: 0.7677 - val_loss: 0.6074 - val_accuracy: 0.9333\n",
      "Epoch 4/20\n",
      "5/5 [==============================] - 105s 20s/step - loss: 0.6396 - accuracy: 0.7437 - val_loss: 0.2560 - val_accuracy: 0.9333\n",
      "Epoch 5/20\n",
      "5/5 [==============================] - 121s 23s/step - loss: 0.7255 - accuracy: 0.6655 - val_loss: 0.5554 - val_accuracy: 0.9333\n",
      "Epoch 6/20\n",
      "5/5 [==============================] - 87s 16s/step - loss: 0.6122 - accuracy: 0.7365 - val_loss: 0.3220 - val_accuracy: 0.9333\n",
      "Epoch 7/20\n",
      "5/5 [==============================] - 98s 20s/step - loss: 0.6789 - accuracy: 0.7382 - val_loss: 0.4067 - val_accuracy: 0.9333\n",
      "Epoch 8/20\n",
      "5/5 [==============================] - 110s 22s/step - loss: 0.6132 - accuracy: 0.7323 - val_loss: 0.6152 - val_accuracy: 0.9333\n",
      "Epoch 9/20\n",
      "5/5 [==============================] - 94s 18s/step - loss: 0.6701 - accuracy: 0.7282 - val_loss: 0.5735 - val_accuracy: 0.9333\n",
      "Epoch 10/20\n",
      "5/5 [==============================] - 91s 17s/step - loss: 0.6183 - accuracy: 0.7086 - val_loss: 0.2829 - val_accuracy: 0.9333\n",
      "Epoch 11/20\n",
      "5/5 [==============================] - 94s 18s/step - loss: 0.6091 - accuracy: 0.7375 - val_loss: 0.3113 - val_accuracy: 0.9333\n",
      "Epoch 12/20\n",
      "5/5 [==============================] - 90s 17s/step - loss: 0.6658 - accuracy: 0.6711 - val_loss: 0.4539 - val_accuracy: 0.9333\n",
      "Epoch 13/20\n",
      "5/5 [==============================] - 80s 15s/step - loss: 0.6137 - accuracy: 0.7166 - val_loss: 0.5057 - val_accuracy: 0.9333\n",
      "Epoch 14/20\n",
      "5/5 [==============================] - 87s 17s/step - loss: 0.5973 - accuracy: 0.7444 - val_loss: 0.3812 - val_accuracy: 0.9333\n",
      "Epoch 15/20\n",
      "5/5 [==============================] - 107s 18s/step - loss: 0.6066 - accuracy: 0.7308 - val_loss: 0.3078 - val_accuracy: 0.9333\n",
      "Epoch 16/20\n",
      "5/5 [==============================] - 87s 17s/step - loss: 0.5838 - accuracy: 0.7511 - val_loss: 0.3787 - val_accuracy: 0.9333\n",
      "Epoch 17/20\n",
      "5/5 [==============================] - 88s 17s/step - loss: 0.6111 - accuracy: 0.7322 - val_loss: 0.5135 - val_accuracy: 0.9333\n",
      "Epoch 18/20\n",
      "5/5 [==============================] - 88s 17s/step - loss: 0.6116 - accuracy: 0.7183 - val_loss: 0.3894 - val_accuracy: 0.9333\n",
      "Epoch 19/20\n",
      "5/5 [==============================] - 93s 18s/step - loss: 0.5986 - accuracy: 0.6808 - val_loss: 0.3091 - val_accuracy: 0.9333\n",
      "Epoch 20/20\n",
      "5/5 [==============================] - 88s 17s/step - loss: 0.6084 - accuracy: 0.7573 - val_loss: 0.3653 - val_accuracy: 0.9333\n"
     ]
    }
   ],
   "metadata": {}
  },
  {
   "cell_type": "code",
   "execution_count": 6,
   "source": [],
   "outputs": [
    {
     "output_type": "stream",
     "name": "stdout",
     "text": [
      "1/1 [==============================] - 3s 3s/step - loss: 0.7076 - accuracy: 0.6471\n",
      "[0.7075830101966858, 0.6470588445663452]\n"
     ]
    }
   ],
   "metadata": {}
  },
  {
   "cell_type": "code",
   "execution_count": null,
   "source": [],
   "outputs": [],
   "metadata": {}
  }
 ],
 "metadata": {
  "interpreter": {
   "hash": "aa3db198781b8dd15e882b54f533e42105267edf847e2b3b8e3059659ac0a1b7"
  },
  "kernelspec": {
   "display_name": "Python 3.9.5 64-bit ('venv': venv)",
   "name": "python3"
  },
  "language_info": {
   "codemirror_mode": {
    "name": "ipython",
    "version": 3
   },
   "file_extension": ".py",
   "mimetype": "text/x-python",
   "name": "python",
   "nbconvert_exporter": "python",
   "pygments_lexer": "ipython3",
   "version": "3.9.5"
  },
  "orig_nbformat": 4
 },
 "nbformat": 4,
 "nbformat_minor": 2
}