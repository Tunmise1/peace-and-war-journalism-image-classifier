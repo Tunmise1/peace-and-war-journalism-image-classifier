{
 "cells": [
  {
   "cell_type": "code",
   "execution_count": 18,
   "source": [
    "import cv2, os\n",
    "import numpy as np\n",
    "from keras.utils import np_utils\n",
    "\n",
    "data_path = 'img'\n",
    "categories = os.listdir(data_path)\n",
    "labels = [i for i in range(len(categories))]\n",
    "data_dict = dict(zip(categories, labels))\n"
   ],
   "outputs": [
    {
     "output_type": "stream",
     "name": "stdout",
     "text": [
      "[0, 1]\n",
      "['PEACE', 'WAR']\n",
      "{'PEACE': 0, 'WAR': 1}\n"
     ]
    }
   ],
   "metadata": {}
  },
  {
   "cell_type": "code",
   "execution_count": 19,
   "source": [
    "img_size = 150\n",
    "data = []\n",
    "target = []\n",
    "\n",
    "for category in categories:\n",
    "    img_folder = os.path.join(data_path, category)\n",
    "    img_names = os.listdir(img_folder) \n",
    "    for img_name in img_names:\n",
    "        img_path = os.path.join(img_folder, img_name)\n",
    "        img = cv2.imread(img_path)\n",
    "\n",
    "        try:\n",
    "            gray = cv2.cvtColor(img, cv2.COLOR_BGR2GRAY)\n",
    "            resized = cv2.resize(gray, (img_size, img_size))\n",
    "            data.append(resized)\n",
    "            target.append(data_dict[category])\n",
    "        except Exception as e:\n",
    "            print('Exception: ', e)"
   ],
   "outputs": [
    {
     "output_type": "stream",
     "name": "stdout",
     "text": [
      "Exception:  OpenCV(4.5.2) /private/var/folders/24/8k48jl6d249_n_qfxwsl6xvm0000gn/T/pip-req-build-2fjztvm5/opencv/modules/imgproc/src/color.cpp:182: error: (-215:Assertion failed) !_src.empty() in function 'cvtColor'\n",
      "\n",
      "Exception:  OpenCV(4.5.2) /private/var/folders/24/8k48jl6d249_n_qfxwsl6xvm0000gn/T/pip-req-build-2fjztvm5/opencv/modules/imgproc/src/color.cpp:182: error: (-215:Assertion failed) !_src.empty() in function 'cvtColor'\n",
      "\n"
     ]
    }
   ],
   "metadata": {}
  },
  {
   "cell_type": "code",
   "execution_count": 20,
   "source": [
    "data = np.array(data)/255.0\n",
    "data = np.reshape(data, (data.shape[0], img_size, img_size, 1))\n",
    "target = np.array(target)\n",
    "new_target = np_utils.to_categorical(target)"
   ],
   "outputs": [],
   "metadata": {}
  },
  {
   "cell_type": "code",
   "execution_count": 21,
   "source": [
    "np.save('data', data)\n",
    "np.save('target', new_target)"
   ],
   "outputs": [],
   "metadata": {}
  },
  {
   "cell_type": "code",
   "execution_count": null,
   "source": [],
   "outputs": [],
   "metadata": {}
  }
 ],
 "metadata": {
  "interpreter": {
   "hash": "aa3db198781b8dd15e882b54f533e42105267edf847e2b3b8e3059659ac0a1b7"
  },
  "kernelspec": {
   "display_name": "Python 3.9.5 64-bit ('venv': venv)",
   "name": "python3"
  },
  "language_info": {
   "codemirror_mode": {
    "name": "ipython",
    "version": 3
   },
   "file_extension": ".py",
   "mimetype": "text/x-python",
   "name": "python",
   "nbconvert_exporter": "python",
   "pygments_lexer": "ipython3",
   "version": "3.9.5"
  },
  "orig_nbformat": 4
 },
 "nbformat": 4,
 "nbformat_minor": 2
}